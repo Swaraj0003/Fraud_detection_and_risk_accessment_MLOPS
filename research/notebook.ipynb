{
 "cells": [
  {
   "cell_type": "code",
   "execution_count": 1,
   "metadata": {},
   "outputs": [],
   "source": [
    "import pandas as pd \n",
    "import numpy as np \n",
    "import matplotlib.pyplot as plt \n",
    "import seaborn as sns \n"
   ]
  },
  {
   "cell_type": "code",
   "execution_count": 2,
   "metadata": {},
   "outputs": [],
   "source": [
    "df =pd.read_csv(r'G:\\data_science_projects\\risk\\Fraud_detection_and_risk_accessment_Mlops\\data\\loan_applications.csv')"
   ]
  },
  {
   "cell_type": "code",
   "execution_count": 3,
   "metadata": {},
   "outputs": [
    {
     "data": {
      "text/html": [
       "<div>\n",
       "<style scoped>\n",
       "    .dataframe tbody tr th:only-of-type {\n",
       "        vertical-align: middle;\n",
       "    }\n",
       "\n",
       "    .dataframe tbody tr th {\n",
       "        vertical-align: top;\n",
       "    }\n",
       "\n",
       "    .dataframe thead th {\n",
       "        text-align: right;\n",
       "    }\n",
       "</style>\n",
       "<table border=\"1\" class=\"dataframe\">\n",
       "  <thead>\n",
       "    <tr style=\"text-align: right;\">\n",
       "      <th></th>\n",
       "      <th>application_id</th>\n",
       "      <th>customer_id</th>\n",
       "      <th>application_date</th>\n",
       "      <th>loan_type</th>\n",
       "      <th>loan_amount_requested</th>\n",
       "      <th>loan_tenure_months</th>\n",
       "      <th>interest_rate_offered</th>\n",
       "      <th>purpose_of_loan</th>\n",
       "      <th>employment_status</th>\n",
       "      <th>monthly_income</th>\n",
       "      <th>...</th>\n",
       "      <th>existing_emis_monthly</th>\n",
       "      <th>debt_to_income_ratio</th>\n",
       "      <th>property_ownership_status</th>\n",
       "      <th>residential_address</th>\n",
       "      <th>applicant_age</th>\n",
       "      <th>gender</th>\n",
       "      <th>number_of_dependents</th>\n",
       "      <th>loan_status</th>\n",
       "      <th>fraud_flag</th>\n",
       "      <th>fraud_type</th>\n",
       "    </tr>\n",
       "  </thead>\n",
       "  <tbody>\n",
       "    <tr>\n",
       "      <th>0</th>\n",
       "      <td>c8bf0bea-70e6-4870-9125-41b8210c527f</td>\n",
       "      <td>CUST109427</td>\n",
       "      <td>2023-04-09</td>\n",
       "      <td>Business Loan</td>\n",
       "      <td>604000.0</td>\n",
       "      <td>12</td>\n",
       "      <td>11.66</td>\n",
       "      <td>Medical Emergency</td>\n",
       "      <td>Retired</td>\n",
       "      <td>34700.0</td>\n",
       "      <td>...</td>\n",
       "      <td>1100.0</td>\n",
       "      <td>3.17</td>\n",
       "      <td>Rented</td>\n",
       "      <td>94/31, Sehgal Zila, Vadodara-380521, Anantapur...</td>\n",
       "      <td>28</td>\n",
       "      <td>Female</td>\n",
       "      <td>3</td>\n",
       "      <td>Approved</td>\n",
       "      <td>0</td>\n",
       "      <td>NaN</td>\n",
       "    </tr>\n",
       "    <tr>\n",
       "      <th>1</th>\n",
       "      <td>91224cec-3544-4bc7-ac15-a9792da54c02</td>\n",
       "      <td>CUST106146</td>\n",
       "      <td>2023-09-23</td>\n",
       "      <td>Car Loan</td>\n",
       "      <td>100000.0</td>\n",
       "      <td>240</td>\n",
       "      <td>13.62</td>\n",
       "      <td>Education</td>\n",
       "      <td>Unemployed</td>\n",
       "      <td>51600.0</td>\n",
       "      <td>...</td>\n",
       "      <td>0.0</td>\n",
       "      <td>0.00</td>\n",
       "      <td>Owned</td>\n",
       "      <td>H.No. 00, Sheth Chowk, Ichalkaranji 006728, Im...</td>\n",
       "      <td>44</td>\n",
       "      <td>Other</td>\n",
       "      <td>3</td>\n",
       "      <td>Approved</td>\n",
       "      <td>0</td>\n",
       "      <td>NaN</td>\n",
       "    </tr>\n",
       "  </tbody>\n",
       "</table>\n",
       "<p>2 rows × 21 columns</p>\n",
       "</div>"
      ],
      "text/plain": [
       "                         application_id customer_id application_date  \\\n",
       "0  c8bf0bea-70e6-4870-9125-41b8210c527f  CUST109427       2023-04-09   \n",
       "1  91224cec-3544-4bc7-ac15-a9792da54c02  CUST106146       2023-09-23   \n",
       "\n",
       "       loan_type  loan_amount_requested  loan_tenure_months  \\\n",
       "0  Business Loan               604000.0                  12   \n",
       "1       Car Loan               100000.0                 240   \n",
       "\n",
       "   interest_rate_offered    purpose_of_loan employment_status  monthly_income  \\\n",
       "0                  11.66  Medical Emergency           Retired         34700.0   \n",
       "1                  13.62          Education        Unemployed         51600.0   \n",
       "\n",
       "   ...  existing_emis_monthly  debt_to_income_ratio  \\\n",
       "0  ...                 1100.0                  3.17   \n",
       "1  ...                    0.0                  0.00   \n",
       "\n",
       "   property_ownership_status  \\\n",
       "0                     Rented   \n",
       "1                      Owned   \n",
       "\n",
       "                                 residential_address applicant_age  gender  \\\n",
       "0  94/31, Sehgal Zila, Vadodara-380521, Anantapur...            28  Female   \n",
       "1  H.No. 00, Sheth Chowk, Ichalkaranji 006728, Im...            44   Other   \n",
       "\n",
       "  number_of_dependents  loan_status fraud_flag  fraud_type  \n",
       "0                    3     Approved          0         NaN  \n",
       "1                    3     Approved          0         NaN  \n",
       "\n",
       "[2 rows x 21 columns]"
      ]
     },
     "execution_count": 3,
     "metadata": {},
     "output_type": "execute_result"
    }
   ],
   "source": [
    "df.head(2)"
   ]
  },
  {
   "cell_type": "code",
   "execution_count": 4,
   "metadata": {},
   "outputs": [
    {
     "name": "stdout",
     "output_type": "stream",
     "text": [
      "<class 'pandas.core.frame.DataFrame'>\n",
      "RangeIndex: 50000 entries, 0 to 49999\n",
      "Data columns (total 21 columns):\n",
      " #   Column                     Non-Null Count  Dtype  \n",
      "---  ------                     --------------  -----  \n",
      " 0   application_id             50000 non-null  object \n",
      " 1   customer_id                50000 non-null  object \n",
      " 2   application_date           50000 non-null  object \n",
      " 3   loan_type                  50000 non-null  object \n",
      " 4   loan_amount_requested      50000 non-null  float64\n",
      " 5   loan_tenure_months         50000 non-null  int64  \n",
      " 6   interest_rate_offered      50000 non-null  float64\n",
      " 7   purpose_of_loan            50000 non-null  object \n",
      " 8   employment_status          50000 non-null  object \n",
      " 9   monthly_income             50000 non-null  float64\n",
      " 10  cibil_score                50000 non-null  int64  \n",
      " 11  existing_emis_monthly      50000 non-null  float64\n",
      " 12  debt_to_income_ratio       50000 non-null  float64\n",
      " 13  property_ownership_status  50000 non-null  object \n",
      " 14  residential_address        50000 non-null  object \n",
      " 15  applicant_age              50000 non-null  int64  \n",
      " 16  gender                     50000 non-null  object \n",
      " 17  number_of_dependents       50000 non-null  int64  \n",
      " 18  loan_status                50000 non-null  object \n",
      " 19  fraud_flag                 50000 non-null  int64  \n",
      " 20  fraud_type                 1026 non-null   object \n",
      "dtypes: float64(5), int64(5), object(11)\n",
      "memory usage: 8.0+ MB\n"
     ]
    }
   ],
   "source": [
    "df.info()"
   ]
  },
  {
   "cell_type": "code",
   "execution_count": 5,
   "metadata": {},
   "outputs": [],
   "source": [
    "df.drop('fraud_type', axis=1, inplace=True)"
   ]
  },
  {
   "cell_type": "code",
   "execution_count": 6,
   "metadata": {},
   "outputs": [
    {
     "data": {
      "text/plain": [
       "application_id               False\n",
       "customer_id                  False\n",
       "application_date             False\n",
       "loan_type                    False\n",
       "loan_amount_requested        False\n",
       "loan_tenure_months           False\n",
       "interest_rate_offered        False\n",
       "purpose_of_loan              False\n",
       "employment_status            False\n",
       "monthly_income               False\n",
       "cibil_score                  False\n",
       "existing_emis_monthly        False\n",
       "debt_to_income_ratio         False\n",
       "property_ownership_status    False\n",
       "residential_address          False\n",
       "applicant_age                False\n",
       "gender                       False\n",
       "number_of_dependents         False\n",
       "loan_status                  False\n",
       "fraud_flag                   False\n",
       "dtype: bool"
      ]
     },
     "execution_count": 6,
     "metadata": {},
     "output_type": "execute_result"
    }
   ],
   "source": [
    "df.isnull().any()"
   ]
  },
  {
   "cell_type": "code",
   "execution_count": 7,
   "metadata": {},
   "outputs": [
    {
     "data": {
      "text/plain": [
       "False"
      ]
     },
     "execution_count": 7,
     "metadata": {},
     "output_type": "execute_result"
    }
   ],
   "source": [
    "df.duplicated().any()"
   ]
  },
  {
   "cell_type": "code",
   "execution_count": null,
   "metadata": {},
   "outputs": [],
   "source": []
  },
  {
   "cell_type": "code",
   "execution_count": 8,
   "metadata": {},
   "outputs": [
    {
     "data": {
      "text/plain": [
       "Index(['application_id', 'customer_id', 'application_date', 'loan_type',\n",
       "       'loan_amount_requested', 'loan_tenure_months', 'interest_rate_offered',\n",
       "       'purpose_of_loan', 'employment_status', 'monthly_income', 'cibil_score',\n",
       "       'existing_emis_monthly', 'debt_to_income_ratio',\n",
       "       'property_ownership_status', 'residential_address', 'applicant_age',\n",
       "       'gender', 'number_of_dependents', 'loan_status', 'fraud_flag'],\n",
       "      dtype='object')"
      ]
     },
     "execution_count": 8,
     "metadata": {},
     "output_type": "execute_result"
    }
   ],
   "source": [
    "df.columns"
   ]
  },
  {
   "cell_type": "code",
   "execution_count": 9,
   "metadata": {},
   "outputs": [],
   "source": [
    "x = df.drop(['application_id', 'application_date', 'interest_rate_offered','residential_address','gender','fraud_flag','loan_status'], axis=1)"
   ]
  },
  {
   "cell_type": "code",
   "execution_count": 10,
   "metadata": {},
   "outputs": [
    {
     "data": {
      "text/html": [
       "<div>\n",
       "<style scoped>\n",
       "    .dataframe tbody tr th:only-of-type {\n",
       "        vertical-align: middle;\n",
       "    }\n",
       "\n",
       "    .dataframe tbody tr th {\n",
       "        vertical-align: top;\n",
       "    }\n",
       "\n",
       "    .dataframe thead th {\n",
       "        text-align: right;\n",
       "    }\n",
       "</style>\n",
       "<table border=\"1\" class=\"dataframe\">\n",
       "  <thead>\n",
       "    <tr style=\"text-align: right;\">\n",
       "      <th></th>\n",
       "      <th>customer_id</th>\n",
       "      <th>loan_type</th>\n",
       "      <th>loan_amount_requested</th>\n",
       "      <th>loan_tenure_months</th>\n",
       "      <th>purpose_of_loan</th>\n",
       "      <th>employment_status</th>\n",
       "      <th>monthly_income</th>\n",
       "      <th>cibil_score</th>\n",
       "      <th>existing_emis_monthly</th>\n",
       "      <th>debt_to_income_ratio</th>\n",
       "      <th>property_ownership_status</th>\n",
       "      <th>applicant_age</th>\n",
       "      <th>number_of_dependents</th>\n",
       "    </tr>\n",
       "  </thead>\n",
       "  <tbody>\n",
       "    <tr>\n",
       "      <th>0</th>\n",
       "      <td>CUST109427</td>\n",
       "      <td>Business Loan</td>\n",
       "      <td>604000.0</td>\n",
       "      <td>12</td>\n",
       "      <td>Medical Emergency</td>\n",
       "      <td>Retired</td>\n",
       "      <td>34700.0</td>\n",
       "      <td>714</td>\n",
       "      <td>1100.0</td>\n",
       "      <td>3.17</td>\n",
       "      <td>Rented</td>\n",
       "      <td>28</td>\n",
       "      <td>3</td>\n",
       "    </tr>\n",
       "    <tr>\n",
       "      <th>1</th>\n",
       "      <td>CUST106146</td>\n",
       "      <td>Car Loan</td>\n",
       "      <td>100000.0</td>\n",
       "      <td>240</td>\n",
       "      <td>Education</td>\n",
       "      <td>Unemployed</td>\n",
       "      <td>51600.0</td>\n",
       "      <td>667</td>\n",
       "      <td>0.0</td>\n",
       "      <td>0.00</td>\n",
       "      <td>Owned</td>\n",
       "      <td>44</td>\n",
       "      <td>3</td>\n",
       "    </tr>\n",
       "    <tr>\n",
       "      <th>2</th>\n",
       "      <td>CUST100674</td>\n",
       "      <td>Education Loan</td>\n",
       "      <td>431000.0</td>\n",
       "      <td>60</td>\n",
       "      <td>Medical Emergency</td>\n",
       "      <td>Self-Employed</td>\n",
       "      <td>14800.0</td>\n",
       "      <td>808</td>\n",
       "      <td>4600.0</td>\n",
       "      <td>31.08</td>\n",
       "      <td>Rented</td>\n",
       "      <td>56</td>\n",
       "      <td>4</td>\n",
       "    </tr>\n",
       "  </tbody>\n",
       "</table>\n",
       "</div>"
      ],
      "text/plain": [
       "  customer_id       loan_type  loan_amount_requested  loan_tenure_months  \\\n",
       "0  CUST109427   Business Loan               604000.0                  12   \n",
       "1  CUST106146        Car Loan               100000.0                 240   \n",
       "2  CUST100674  Education Loan               431000.0                  60   \n",
       "\n",
       "     purpose_of_loan employment_status  monthly_income  cibil_score  \\\n",
       "0  Medical Emergency           Retired         34700.0          714   \n",
       "1          Education        Unemployed         51600.0          667   \n",
       "2  Medical Emergency     Self-Employed         14800.0          808   \n",
       "\n",
       "   existing_emis_monthly  debt_to_income_ratio property_ownership_status  \\\n",
       "0                 1100.0                  3.17                    Rented   \n",
       "1                    0.0                  0.00                     Owned   \n",
       "2                 4600.0                 31.08                    Rented   \n",
       "\n",
       "   applicant_age  number_of_dependents  \n",
       "0             28                     3  \n",
       "1             44                     3  \n",
       "2             56                     4  "
      ]
     },
     "execution_count": 10,
     "metadata": {},
     "output_type": "execute_result"
    }
   ],
   "source": [
    "x.head(3)"
   ]
  },
  {
   "cell_type": "code",
   "execution_count": 11,
   "metadata": {},
   "outputs": [],
   "source": [
    "y=df['loan_status']"
   ]
  },
  {
   "cell_type": "code",
   "execution_count": 12,
   "metadata": {},
   "outputs": [
    {
     "data": {
      "text/plain": [
       "0    Approved\n",
       "1    Approved\n",
       "2    Approved\n",
       "Name: loan_status, dtype: object"
      ]
     },
     "execution_count": 12,
     "metadata": {},
     "output_type": "execute_result"
    }
   ],
   "source": [
    "y.head(3)"
   ]
  },
  {
   "cell_type": "code",
   "execution_count": 13,
   "metadata": {},
   "outputs": [],
   "source": [
    "from sklearn.preprocessing import LabelEncoder\n"
   ]
  },
  {
   "cell_type": "code",
   "execution_count": 14,
   "metadata": {},
   "outputs": [],
   "source": [
    "x_copy=x.copy()"
   ]
  },
  {
   "cell_type": "code",
   "execution_count": 15,
   "metadata": {},
   "outputs": [],
   "source": [
    "col=['customer_id','loan_type','purpose_of_loan','employment_status','property_ownership_status']"
   ]
  },
  {
   "cell_type": "code",
   "execution_count": 16,
   "metadata": {},
   "outputs": [
    {
     "data": {
      "text/html": [
       "<div>\n",
       "<style scoped>\n",
       "    .dataframe tbody tr th:only-of-type {\n",
       "        vertical-align: middle;\n",
       "    }\n",
       "\n",
       "    .dataframe tbody tr th {\n",
       "        vertical-align: top;\n",
       "    }\n",
       "\n",
       "    .dataframe thead th {\n",
       "        text-align: right;\n",
       "    }\n",
       "</style>\n",
       "<table border=\"1\" class=\"dataframe\">\n",
       "  <thead>\n",
       "    <tr style=\"text-align: right;\">\n",
       "      <th></th>\n",
       "      <th>customer_id</th>\n",
       "      <th>loan_type</th>\n",
       "      <th>loan_amount_requested</th>\n",
       "      <th>loan_tenure_months</th>\n",
       "      <th>purpose_of_loan</th>\n",
       "      <th>employment_status</th>\n",
       "      <th>monthly_income</th>\n",
       "      <th>cibil_score</th>\n",
       "      <th>existing_emis_monthly</th>\n",
       "      <th>debt_to_income_ratio</th>\n",
       "      <th>property_ownership_status</th>\n",
       "      <th>applicant_age</th>\n",
       "      <th>number_of_dependents</th>\n",
       "    </tr>\n",
       "  </thead>\n",
       "  <tbody>\n",
       "    <tr>\n",
       "      <th>0</th>\n",
       "      <td>CUST109427</td>\n",
       "      <td>Business Loan</td>\n",
       "      <td>604000.0</td>\n",
       "      <td>12</td>\n",
       "      <td>Medical Emergency</td>\n",
       "      <td>Retired</td>\n",
       "      <td>34700.0</td>\n",
       "      <td>714</td>\n",
       "      <td>1100.0</td>\n",
       "      <td>3.17</td>\n",
       "      <td>Rented</td>\n",
       "      <td>28</td>\n",
       "      <td>3</td>\n",
       "    </tr>\n",
       "    <tr>\n",
       "      <th>1</th>\n",
       "      <td>CUST106146</td>\n",
       "      <td>Car Loan</td>\n",
       "      <td>100000.0</td>\n",
       "      <td>240</td>\n",
       "      <td>Education</td>\n",
       "      <td>Unemployed</td>\n",
       "      <td>51600.0</td>\n",
       "      <td>667</td>\n",
       "      <td>0.0</td>\n",
       "      <td>0.00</td>\n",
       "      <td>Owned</td>\n",
       "      <td>44</td>\n",
       "      <td>3</td>\n",
       "    </tr>\n",
       "    <tr>\n",
       "      <th>2</th>\n",
       "      <td>CUST100674</td>\n",
       "      <td>Education Loan</td>\n",
       "      <td>431000.0</td>\n",
       "      <td>60</td>\n",
       "      <td>Medical Emergency</td>\n",
       "      <td>Self-Employed</td>\n",
       "      <td>14800.0</td>\n",
       "      <td>808</td>\n",
       "      <td>4600.0</td>\n",
       "      <td>31.08</td>\n",
       "      <td>Rented</td>\n",
       "      <td>56</td>\n",
       "      <td>4</td>\n",
       "    </tr>\n",
       "  </tbody>\n",
       "</table>\n",
       "</div>"
      ],
      "text/plain": [
       "  customer_id       loan_type  loan_amount_requested  loan_tenure_months  \\\n",
       "0  CUST109427   Business Loan               604000.0                  12   \n",
       "1  CUST106146        Car Loan               100000.0                 240   \n",
       "2  CUST100674  Education Loan               431000.0                  60   \n",
       "\n",
       "     purpose_of_loan employment_status  monthly_income  cibil_score  \\\n",
       "0  Medical Emergency           Retired         34700.0          714   \n",
       "1          Education        Unemployed         51600.0          667   \n",
       "2  Medical Emergency     Self-Employed         14800.0          808   \n",
       "\n",
       "   existing_emis_monthly  debt_to_income_ratio property_ownership_status  \\\n",
       "0                 1100.0                  3.17                    Rented   \n",
       "1                    0.0                  0.00                     Owned   \n",
       "2                 4600.0                 31.08                    Rented   \n",
       "\n",
       "   applicant_age  number_of_dependents  \n",
       "0             28                     3  \n",
       "1             44                     3  \n",
       "2             56                     4  "
      ]
     },
     "execution_count": 16,
     "metadata": {},
     "output_type": "execute_result"
    }
   ],
   "source": [
    "x_copy.head(3)"
   ]
  },
  {
   "cell_type": "code",
   "execution_count": 17,
   "metadata": {},
   "outputs": [
    {
     "name": "stdout",
     "output_type": "stream",
     "text": [
      "Encoding completed successfully!\n",
      "   customer_id  loan_type  loan_amount_requested  loan_tenure_months  \\\n",
      "0         8614          0               604000.0                  12   \n",
      "1         5619          1               100000.0                 240   \n",
      "2          610          2               431000.0                  60   \n",
      "3         5913          1               324000.0                 120   \n",
      "4        11260          4               100000.0                  36   \n",
      "\n",
      "   purpose_of_loan  employment_status  monthly_income  cibil_score  \\\n",
      "0                4                  1         34700.0          714   \n",
      "1                2                  5         51600.0          667   \n",
      "2                4                  3         14800.0          808   \n",
      "3                1                  3         28800.0          647   \n",
      "4                0                  2         43900.0          624   \n",
      "\n",
      "   existing_emis_monthly  debt_to_income_ratio  property_ownership_status  \\\n",
      "0                 1100.0                  3.17                          2   \n",
      "1                    0.0                  0.00                          1   \n",
      "2                 4600.0                 31.08                          2   \n",
      "3                 4000.0                 13.89                          2   \n",
      "4                 1100.0                  2.51                          2   \n",
      "\n",
      "   applicant_age  number_of_dependents  \n",
      "0             28                     3  \n",
      "1             44                     3  \n",
      "2             56                     4  \n",
      "3             27                     4  \n",
      "4             50                     0  \n"
     ]
    }
   ],
   "source": [
    "\n",
    "\n",
    "encoders = {}\n",
    "for i in col:\n",
    "    le = LabelEncoder()\n",
    "    x_encoded = le.fit_transform(x[i])  # Use 'x' if that's your dataframe name\n",
    "    encoders[i] = le\n",
    "    x[i] = x_encoded  # Assign back to dataframe 'x'\n",
    "\n",
    "print(\"Encoding completed successfully!\")\n",
    "print(x.head())"
   ]
  },
  {
   "cell_type": "code",
   "execution_count": 18,
   "metadata": {},
   "outputs": [
    {
     "data": {
      "text/html": [
       "<div>\n",
       "<style scoped>\n",
       "    .dataframe tbody tr th:only-of-type {\n",
       "        vertical-align: middle;\n",
       "    }\n",
       "\n",
       "    .dataframe tbody tr th {\n",
       "        vertical-align: top;\n",
       "    }\n",
       "\n",
       "    .dataframe thead th {\n",
       "        text-align: right;\n",
       "    }\n",
       "</style>\n",
       "<table border=\"1\" class=\"dataframe\">\n",
       "  <thead>\n",
       "    <tr style=\"text-align: right;\">\n",
       "      <th></th>\n",
       "      <th>customer_id</th>\n",
       "      <th>loan_type</th>\n",
       "      <th>loan_amount_requested</th>\n",
       "      <th>loan_tenure_months</th>\n",
       "      <th>purpose_of_loan</th>\n",
       "      <th>employment_status</th>\n",
       "      <th>monthly_income</th>\n",
       "      <th>cibil_score</th>\n",
       "      <th>existing_emis_monthly</th>\n",
       "      <th>debt_to_income_ratio</th>\n",
       "      <th>property_ownership_status</th>\n",
       "      <th>applicant_age</th>\n",
       "      <th>number_of_dependents</th>\n",
       "    </tr>\n",
       "  </thead>\n",
       "  <tbody>\n",
       "    <tr>\n",
       "      <th>0</th>\n",
       "      <td>8614</td>\n",
       "      <td>0</td>\n",
       "      <td>604000.0</td>\n",
       "      <td>12</td>\n",
       "      <td>4</td>\n",
       "      <td>1</td>\n",
       "      <td>34700.0</td>\n",
       "      <td>714</td>\n",
       "      <td>1100.0</td>\n",
       "      <td>3.17</td>\n",
       "      <td>2</td>\n",
       "      <td>28</td>\n",
       "      <td>3</td>\n",
       "    </tr>\n",
       "    <tr>\n",
       "      <th>1</th>\n",
       "      <td>5619</td>\n",
       "      <td>1</td>\n",
       "      <td>100000.0</td>\n",
       "      <td>240</td>\n",
       "      <td>2</td>\n",
       "      <td>5</td>\n",
       "      <td>51600.0</td>\n",
       "      <td>667</td>\n",
       "      <td>0.0</td>\n",
       "      <td>0.00</td>\n",
       "      <td>1</td>\n",
       "      <td>44</td>\n",
       "      <td>3</td>\n",
       "    </tr>\n",
       "    <tr>\n",
       "      <th>2</th>\n",
       "      <td>610</td>\n",
       "      <td>2</td>\n",
       "      <td>431000.0</td>\n",
       "      <td>60</td>\n",
       "      <td>4</td>\n",
       "      <td>3</td>\n",
       "      <td>14800.0</td>\n",
       "      <td>808</td>\n",
       "      <td>4600.0</td>\n",
       "      <td>31.08</td>\n",
       "      <td>2</td>\n",
       "      <td>56</td>\n",
       "      <td>4</td>\n",
       "    </tr>\n",
       "  </tbody>\n",
       "</table>\n",
       "</div>"
      ],
      "text/plain": [
       "   customer_id  loan_type  loan_amount_requested  loan_tenure_months  \\\n",
       "0         8614          0               604000.0                  12   \n",
       "1         5619          1               100000.0                 240   \n",
       "2          610          2               431000.0                  60   \n",
       "\n",
       "   purpose_of_loan  employment_status  monthly_income  cibil_score  \\\n",
       "0                4                  1         34700.0          714   \n",
       "1                2                  5         51600.0          667   \n",
       "2                4                  3         14800.0          808   \n",
       "\n",
       "   existing_emis_monthly  debt_to_income_ratio  property_ownership_status  \\\n",
       "0                 1100.0                  3.17                          2   \n",
       "1                    0.0                  0.00                          1   \n",
       "2                 4600.0                 31.08                          2   \n",
       "\n",
       "   applicant_age  number_of_dependents  \n",
       "0             28                     3  \n",
       "1             44                     3  \n",
       "2             56                     4  "
      ]
     },
     "execution_count": 18,
     "metadata": {},
     "output_type": "execute_result"
    }
   ],
   "source": [
    "x.head(3)"
   ]
  },
  {
   "cell_type": "code",
   "execution_count": 19,
   "metadata": {},
   "outputs": [],
   "source": [
    "y_encoded = le.fit_transform(y)\n",
    "y_encode=pd.Series(y_encoded)"
   ]
  },
  {
   "cell_type": "code",
   "execution_count": 24,
   "metadata": {},
   "outputs": [
    {
     "data": {
      "text/plain": [
       "0    Approved\n",
       "1    Approved\n",
       "2    Approved\n",
       "3    Declined\n",
       "4    Declined\n",
       "Name: loan_status, dtype: object"
      ]
     },
     "execution_count": 24,
     "metadata": {},
     "output_type": "execute_result"
    }
   ],
   "source": [
    "y.head()"
   ]
  },
  {
   "cell_type": "code",
   "execution_count": 29,
   "metadata": {},
   "outputs": [],
   "source": [
    "y_encode=pd.Series(y_encoded)"
   ]
  },
  {
   "cell_type": "code",
   "execution_count": 30,
   "metadata": {},
   "outputs": [
    {
     "data": {
      "text/plain": [
       "0    0\n",
       "1    0\n",
       "2    0\n",
       "3    1\n",
       "4    1\n",
       "dtype: int32"
      ]
     },
     "execution_count": 30,
     "metadata": {},
     "output_type": "execute_result"
    }
   ],
   "source": [
    "y_encode.head()"
   ]
  },
  {
   "cell_type": "code",
   "execution_count": 31,
   "metadata": {},
   "outputs": [
    {
     "data": {
      "text/plain": [
       "0    40882\n",
       "1     8092\n",
       "2      542\n",
       "3      484\n",
       "Name: count, dtype: int64"
      ]
     },
     "execution_count": 31,
     "metadata": {},
     "output_type": "execute_result"
    }
   ],
   "source": [
    "y_encode.value_counts()"
   ]
  },
  {
   "cell_type": "code",
   "execution_count": 36,
   "metadata": {},
   "outputs": [
    {
     "data": {
      "text/html": [
       "<div>\n",
       "<style scoped>\n",
       "    .dataframe tbody tr th:only-of-type {\n",
       "        vertical-align: middle;\n",
       "    }\n",
       "\n",
       "    .dataframe tbody tr th {\n",
       "        vertical-align: top;\n",
       "    }\n",
       "\n",
       "    .dataframe thead th {\n",
       "        text-align: right;\n",
       "    }\n",
       "</style>\n",
       "<table border=\"1\" class=\"dataframe\">\n",
       "  <thead>\n",
       "    <tr style=\"text-align: right;\">\n",
       "      <th></th>\n",
       "      <th>customer_id</th>\n",
       "      <th>loan_type</th>\n",
       "      <th>loan_amount_requested</th>\n",
       "      <th>loan_tenure_months</th>\n",
       "      <th>purpose_of_loan</th>\n",
       "      <th>employment_status</th>\n",
       "      <th>monthly_income</th>\n",
       "      <th>cibil_score</th>\n",
       "      <th>existing_emis_monthly</th>\n",
       "      <th>debt_to_income_ratio</th>\n",
       "      <th>property_ownership_status</th>\n",
       "      <th>applicant_age</th>\n",
       "      <th>number_of_dependents</th>\n",
       "    </tr>\n",
       "  </thead>\n",
       "  <tbody>\n",
       "    <tr>\n",
       "      <th>0</th>\n",
       "      <td>8614</td>\n",
       "      <td>0</td>\n",
       "      <td>604000.0</td>\n",
       "      <td>12</td>\n",
       "      <td>4</td>\n",
       "      <td>1</td>\n",
       "      <td>34700.0</td>\n",
       "      <td>714</td>\n",
       "      <td>1100.0</td>\n",
       "      <td>3.17</td>\n",
       "      <td>2</td>\n",
       "      <td>28</td>\n",
       "      <td>3</td>\n",
       "    </tr>\n",
       "    <tr>\n",
       "      <th>1</th>\n",
       "      <td>5619</td>\n",
       "      <td>1</td>\n",
       "      <td>100000.0</td>\n",
       "      <td>240</td>\n",
       "      <td>2</td>\n",
       "      <td>5</td>\n",
       "      <td>51600.0</td>\n",
       "      <td>667</td>\n",
       "      <td>0.0</td>\n",
       "      <td>0.00</td>\n",
       "      <td>1</td>\n",
       "      <td>44</td>\n",
       "      <td>3</td>\n",
       "    </tr>\n",
       "    <tr>\n",
       "      <th>2</th>\n",
       "      <td>610</td>\n",
       "      <td>2</td>\n",
       "      <td>431000.0</td>\n",
       "      <td>60</td>\n",
       "      <td>4</td>\n",
       "      <td>3</td>\n",
       "      <td>14800.0</td>\n",
       "      <td>808</td>\n",
       "      <td>4600.0</td>\n",
       "      <td>31.08</td>\n",
       "      <td>2</td>\n",
       "      <td>56</td>\n",
       "      <td>4</td>\n",
       "    </tr>\n",
       "  </tbody>\n",
       "</table>\n",
       "</div>"
      ],
      "text/plain": [
       "   customer_id  loan_type  loan_amount_requested  loan_tenure_months  \\\n",
       "0         8614          0               604000.0                  12   \n",
       "1         5619          1               100000.0                 240   \n",
       "2          610          2               431000.0                  60   \n",
       "\n",
       "   purpose_of_loan  employment_status  monthly_income  cibil_score  \\\n",
       "0                4                  1         34700.0          714   \n",
       "1                2                  5         51600.0          667   \n",
       "2                4                  3         14800.0          808   \n",
       "\n",
       "   existing_emis_monthly  debt_to_income_ratio  property_ownership_status  \\\n",
       "0                 1100.0                  3.17                          2   \n",
       "1                    0.0                  0.00                          1   \n",
       "2                 4600.0                 31.08                          2   \n",
       "\n",
       "   applicant_age  number_of_dependents  \n",
       "0             28                     3  \n",
       "1             44                     3  \n",
       "2             56                     4  "
      ]
     },
     "execution_count": 36,
     "metadata": {},
     "output_type": "execute_result"
    }
   ],
   "source": [
    "x.head(3)"
   ]
  },
  {
   "cell_type": "code",
   "execution_count": 37,
   "metadata": {},
   "outputs": [],
   "source": [
    "from sklearn.preprocessing import StandardScaler\n",
    "scaler=StandardScaler()\n",
    "\n",
    "x_scaled=scaler.fit_transform(x)\n"
   ]
  },
  {
   "cell_type": "code",
   "execution_count": 38,
   "metadata": {},
   "outputs": [
    {
     "data": {
      "text/plain": [
       "array([[-0.10023798, -1.41807663,  0.32733919, ...,  1.22583083,\n",
       "        -1.16119778,  0.70113351],\n",
       "       [-0.66641025, -0.71068654, -1.50399081, ...,  0.00203151,\n",
       "         0.0724064 ,  0.70113351],\n",
       "       [-1.61330739, -0.00329644, -0.3012721 , ...,  1.22583083,\n",
       "         0.99760953,  1.41098398],\n",
       "       ...,\n",
       "       [ 1.71415985, -0.71068654, -0.28310414, ..., -1.22176781,\n",
       "         0.38080744,  1.41098398],\n",
       "       [-0.16054147, -1.41807663,  1.13763005, ...,  1.22583083,\n",
       "         1.4602111 ,  0.70113351],\n",
       "       [ 0.59731651,  0.70409366, -1.50399081, ...,  0.00203151,\n",
       "         0.22660692,  0.70113351]])"
      ]
     },
     "execution_count": 38,
     "metadata": {},
     "output_type": "execute_result"
    }
   ],
   "source": [
    "x_scaled"
   ]
  },
  {
   "cell_type": "code",
   "execution_count": 39,
   "metadata": {},
   "outputs": [],
   "source": [
    "x_scaled=pd.DataFrame(x_scaled,columns=x.columns)"
   ]
  },
  {
   "cell_type": "code",
   "execution_count": 40,
   "metadata": {},
   "outputs": [
    {
     "data": {
      "text/html": [
       "<div>\n",
       "<style scoped>\n",
       "    .dataframe tbody tr th:only-of-type {\n",
       "        vertical-align: middle;\n",
       "    }\n",
       "\n",
       "    .dataframe tbody tr th {\n",
       "        vertical-align: top;\n",
       "    }\n",
       "\n",
       "    .dataframe thead th {\n",
       "        text-align: right;\n",
       "    }\n",
       "</style>\n",
       "<table border=\"1\" class=\"dataframe\">\n",
       "  <thead>\n",
       "    <tr style=\"text-align: right;\">\n",
       "      <th></th>\n",
       "      <th>customer_id</th>\n",
       "      <th>loan_type</th>\n",
       "      <th>loan_amount_requested</th>\n",
       "      <th>loan_tenure_months</th>\n",
       "      <th>purpose_of_loan</th>\n",
       "      <th>employment_status</th>\n",
       "      <th>monthly_income</th>\n",
       "      <th>cibil_score</th>\n",
       "      <th>existing_emis_monthly</th>\n",
       "      <th>debt_to_income_ratio</th>\n",
       "      <th>property_ownership_status</th>\n",
       "      <th>applicant_age</th>\n",
       "      <th>number_of_dependents</th>\n",
       "    </tr>\n",
       "  </thead>\n",
       "  <tbody>\n",
       "    <tr>\n",
       "      <th>0</th>\n",
       "      <td>-0.100238</td>\n",
       "      <td>-1.418077</td>\n",
       "      <td>0.327339</td>\n",
       "      <td>-0.900989</td>\n",
       "      <td>0.501681</td>\n",
       "      <td>-0.872180</td>\n",
       "      <td>-0.676242</td>\n",
       "      <td>0.297482</td>\n",
       "      <td>-1.036588</td>\n",
       "      <td>-0.563563</td>\n",
       "      <td>1.225831</td>\n",
       "      <td>-1.161198</td>\n",
       "      <td>0.701134</td>\n",
       "    </tr>\n",
       "    <tr>\n",
       "      <th>1</th>\n",
       "      <td>-0.666410</td>\n",
       "      <td>-0.710687</td>\n",
       "      <td>-1.503991</td>\n",
       "      <td>0.976957</td>\n",
       "      <td>-0.498520</td>\n",
       "      <td>1.472673</td>\n",
       "      <td>0.031626</td>\n",
       "      <td>-0.644028</td>\n",
       "      <td>-1.616465</td>\n",
       "      <td>-0.894200</td>\n",
       "      <td>0.002032</td>\n",
       "      <td>0.072406</td>\n",
       "      <td>0.701134</td>\n",
       "    </tr>\n",
       "    <tr>\n",
       "      <th>2</th>\n",
       "      <td>-1.613307</td>\n",
       "      <td>-0.003296</td>\n",
       "      <td>-0.301272</td>\n",
       "      <td>-0.505632</td>\n",
       "      <td>0.501681</td>\n",
       "      <td>0.300247</td>\n",
       "      <td>-1.509767</td>\n",
       "      <td>2.180501</td>\n",
       "      <td>0.808473</td>\n",
       "      <td>2.347503</td>\n",
       "      <td>1.225831</td>\n",
       "      <td>0.997610</td>\n",
       "      <td>1.410984</td>\n",
       "    </tr>\n",
       "  </tbody>\n",
       "</table>\n",
       "</div>"
      ],
      "text/plain": [
       "   customer_id  loan_type  loan_amount_requested  loan_tenure_months  \\\n",
       "0    -0.100238  -1.418077               0.327339           -0.900989   \n",
       "1    -0.666410  -0.710687              -1.503991            0.976957   \n",
       "2    -1.613307  -0.003296              -0.301272           -0.505632   \n",
       "\n",
       "   purpose_of_loan  employment_status  monthly_income  cibil_score  \\\n",
       "0         0.501681          -0.872180       -0.676242     0.297482   \n",
       "1        -0.498520           1.472673        0.031626    -0.644028   \n",
       "2         0.501681           0.300247       -1.509767     2.180501   \n",
       "\n",
       "   existing_emis_monthly  debt_to_income_ratio  property_ownership_status  \\\n",
       "0              -1.036588             -0.563563                   1.225831   \n",
       "1              -1.616465             -0.894200                   0.002032   \n",
       "2               0.808473              2.347503                   1.225831   \n",
       "\n",
       "   applicant_age  number_of_dependents  \n",
       "0      -1.161198              0.701134  \n",
       "1       0.072406              0.701134  \n",
       "2       0.997610              1.410984  "
      ]
     },
     "execution_count": 40,
     "metadata": {},
     "output_type": "execute_result"
    }
   ],
   "source": [
    "x_scaled.head(3)"
   ]
  },
  {
   "cell_type": "code",
   "execution_count": 41,
   "metadata": {},
   "outputs": [],
   "source": [
    "from sklearn.model_selection import train_test_split\n",
    "from sklearn.ensemble import RandomForestClassifier\n",
    "from sklearn.metrics import (accuracy_score, precision_recall_fscore_support,\n",
    "                             confusion_matrix, classification_report, roc_auc_score)\n",
    "\n",
    "x_train,x_test,y_train,y_test=train_test_split(x_scaled,y_encode,test_size=0.2,random_state=42,stratify=y_encode)\n",
    "rf = RandomForestClassifier(n_estimators=100, random_state=42)\n",
    "rf.fit(x_train, y_train)\n",
    "y_pred_rf = rf.predict(x_test)\n",
    "evaluate_model(y_test, y_pred_rf, \"Random Forest\")\n",
    "\n",
    "def evaluate_model(y_true, y_pred, model_name=\"Model\"):\n",
    "    print(f\"\\n=== {model_name} Evaluation ===\")\n",
    "    acc = accuracy_score(y_true, y_pred)\n",
    "    precision, recall, f1, _ = precision_recall_fscore_support(y_true, y_pred, average='macro')\n",
    "    \n"
   ]
  },
  {
   "cell_type": "code",
   "execution_count": 42,
   "metadata": {},
   "outputs": [],
   "source": [
    "x_train,x_test,y_train,y_test=train_test_split(x_scaled,y_encode,test_size=0.2,random_state=42,stratify=y_encode)"
   ]
  },
  {
   "cell_type": "code",
   "execution_count": 44,
   "metadata": {},
   "outputs": [
    {
     "name": "stdout",
     "output_type": "stream",
     "text": [
      "X_train shape: (40000, 13)\n",
      "X_test shape: (10000, 13)\n",
      "y_train shape: (40000,)\n",
      "y_test shape: (10000,)\n"
     ]
    }
   ],
   "source": [
    "print(f\"X_train shape: {x_train.shape}\")\n",
    "print(f\"X_test shape: {x_test.shape}\")\n",
    "print(f\"y_train shape: {y_train.shape}\")\n",
    "print(f\"y_test shape: {y_test.shape}\")"
   ]
  },
  {
   "cell_type": "code",
   "execution_count": 48,
   "metadata": {},
   "outputs": [],
   "source": [
    "from sklearn.metrics import (\n",
    "    accuracy_score, precision_score, recall_score, f1_score,\n",
    "    classification_report, confusion_matrix, roc_auc_score,\n",
    "    roc_curve, precision_recall_curve, log_loss\n",
    ")"
   ]
  },
  {
   "cell_type": "code",
   "execution_count": 56,
   "metadata": {},
   "outputs": [
    {
     "data": {
      "text/html": [
       "<style>#sk-container-id-2 {color: black;}#sk-container-id-2 pre{padding: 0;}#sk-container-id-2 div.sk-toggleable {background-color: white;}#sk-container-id-2 label.sk-toggleable__label {cursor: pointer;display: block;width: 100%;margin-bottom: 0;padding: 0.3em;box-sizing: border-box;text-align: center;}#sk-container-id-2 label.sk-toggleable__label-arrow:before {content: \"▸\";float: left;margin-right: 0.25em;color: #696969;}#sk-container-id-2 label.sk-toggleable__label-arrow:hover:before {color: black;}#sk-container-id-2 div.sk-estimator:hover label.sk-toggleable__label-arrow:before {color: black;}#sk-container-id-2 div.sk-toggleable__content {max-height: 0;max-width: 0;overflow: hidden;text-align: left;background-color: #f0f8ff;}#sk-container-id-2 div.sk-toggleable__content pre {margin: 0.2em;color: black;border-radius: 0.25em;background-color: #f0f8ff;}#sk-container-id-2 input.sk-toggleable__control:checked~div.sk-toggleable__content {max-height: 200px;max-width: 100%;overflow: auto;}#sk-container-id-2 input.sk-toggleable__control:checked~label.sk-toggleable__label-arrow:before {content: \"▾\";}#sk-container-id-2 div.sk-estimator input.sk-toggleable__control:checked~label.sk-toggleable__label {background-color: #d4ebff;}#sk-container-id-2 div.sk-label input.sk-toggleable__control:checked~label.sk-toggleable__label {background-color: #d4ebff;}#sk-container-id-2 input.sk-hidden--visually {border: 0;clip: rect(1px 1px 1px 1px);clip: rect(1px, 1px, 1px, 1px);height: 1px;margin: -1px;overflow: hidden;padding: 0;position: absolute;width: 1px;}#sk-container-id-2 div.sk-estimator {font-family: monospace;background-color: #f0f8ff;border: 1px dotted black;border-radius: 0.25em;box-sizing: border-box;margin-bottom: 0.5em;}#sk-container-id-2 div.sk-estimator:hover {background-color: #d4ebff;}#sk-container-id-2 div.sk-parallel-item::after {content: \"\";width: 100%;border-bottom: 1px solid gray;flex-grow: 1;}#sk-container-id-2 div.sk-label:hover label.sk-toggleable__label {background-color: #d4ebff;}#sk-container-id-2 div.sk-serial::before {content: \"\";position: absolute;border-left: 1px solid gray;box-sizing: border-box;top: 0;bottom: 0;left: 50%;z-index: 0;}#sk-container-id-2 div.sk-serial {display: flex;flex-direction: column;align-items: center;background-color: white;padding-right: 0.2em;padding-left: 0.2em;position: relative;}#sk-container-id-2 div.sk-item {position: relative;z-index: 1;}#sk-container-id-2 div.sk-parallel {display: flex;align-items: stretch;justify-content: center;background-color: white;position: relative;}#sk-container-id-2 div.sk-item::before, #sk-container-id-2 div.sk-parallel-item::before {content: \"\";position: absolute;border-left: 1px solid gray;box-sizing: border-box;top: 0;bottom: 0;left: 50%;z-index: -1;}#sk-container-id-2 div.sk-parallel-item {display: flex;flex-direction: column;z-index: 1;position: relative;background-color: white;}#sk-container-id-2 div.sk-parallel-item:first-child::after {align-self: flex-end;width: 50%;}#sk-container-id-2 div.sk-parallel-item:last-child::after {align-self: flex-start;width: 50%;}#sk-container-id-2 div.sk-parallel-item:only-child::after {width: 0;}#sk-container-id-2 div.sk-dashed-wrapped {border: 1px dashed gray;margin: 0 0.4em 0.5em 0.4em;box-sizing: border-box;padding-bottom: 0.4em;background-color: white;}#sk-container-id-2 div.sk-label label {font-family: monospace;font-weight: bold;display: inline-block;line-height: 1.2em;}#sk-container-id-2 div.sk-label-container {text-align: center;}#sk-container-id-2 div.sk-container {/* jupyter's `normalize.less` sets `[hidden] { display: none; }` but bootstrap.min.css set `[hidden] { display: none !important; }` so we also need the `!important` here to be able to override the default hidden behavior on the sphinx rendered scikit-learn.org. See: https://github.com/scikit-learn/scikit-learn/issues/21755 */display: inline-block !important;position: relative;}#sk-container-id-2 div.sk-text-repr-fallback {display: none;}</style><div id=\"sk-container-id-2\" class=\"sk-top-container\"><div class=\"sk-text-repr-fallback\"><pre>LogisticRegression(max_iter=1000, random_state=42)</pre><b>In a Jupyter environment, please rerun this cell to show the HTML representation or trust the notebook. <br />On GitHub, the HTML representation is unable to render, please try loading this page with nbviewer.org.</b></div><div class=\"sk-container\" hidden><div class=\"sk-item\"><div class=\"sk-estimator sk-toggleable\"><input class=\"sk-toggleable__control sk-hidden--visually\" id=\"sk-estimator-id-2\" type=\"checkbox\" checked><label for=\"sk-estimator-id-2\" class=\"sk-toggleable__label sk-toggleable__label-arrow\">LogisticRegression</label><div class=\"sk-toggleable__content\"><pre>LogisticRegression(max_iter=1000, random_state=42)</pre></div></div></div></div></div>"
      ],
      "text/plain": [
       "LogisticRegression(max_iter=1000, random_state=42)"
      ]
     },
     "execution_count": 56,
     "metadata": {},
     "output_type": "execute_result"
    }
   ],
   "source": [
    "from sklearn.linear_model import LogisticRegression\n",
    "from sklearn.linear_model import LogisticRegression\n",
    "from sklearn.ensemble import RandomForestClassifier\n",
    "from sklearn.metrics import (accuracy_score, precision_recall_fscore_support,\n",
    "                             confusion_matrix, classification_report, roc_auc_score)\n",
    "\n",
    "\n",
    "model1 = LogisticRegression(random_state=42, max_iter=1000)\n",
    "model1.fit(x_train, y_train)"
   ]
  },
  {
   "cell_type": "code",
   "execution_count": 57,
   "metadata": {},
   "outputs": [],
   "source": [
    "y_pred=model1.predict(x_test)"
   ]
  },
  {
   "cell_type": "code",
   "execution_count": 58,
   "metadata": {},
   "outputs": [],
   "source": [
    "def evaluate_model(y_true, y_pred, model_name=\"Model\"):\n",
    "    print(f\"\\n=== {model_name} Evaluation ===\")\n",
    "    acc = accuracy_score(y_true, y_pred)\n",
    "    precision, recall, f1, _ = precision_recall_fscore_support(y_true, y_pred, average='macro')\n",
    "    print(\"Accuracy:\", acc)\n",
    "    print(\"Macro Precision:\", precision)\n",
    "    print(\"Macro Recall:\", recall)\n",
    "    print(\"Macro F1-score:\", f1)\n",
    "    print(\"\\nClassification Report:\\n\", classification_report(y_true, y_pred))\n",
    "\n",
    "    cm = confusion_matrix(y_true, y_pred)\n",
    "    sns.heatmap(cm, annot=True, fmt='d', cmap='Blues')\n",
    "    plt.title(f'{model_name} Confusion Matrix')\n",
    "    plt.xlabel(\"Predicted\")\n",
    "    plt.ylabel(\"True\")\n",
    "    plt.show()\n"
   ]
  },
  {
   "cell_type": "code",
   "execution_count": 59,
   "metadata": {},
   "outputs": [
    {
     "name": "stdout",
     "output_type": "stream",
     "text": [
      "\n",
      "=== Logistic Regression Evaluation ===\n",
      "Accuracy: 0.9746\n",
      "Macro Precision: 0.4869242003918137\n",
      "Macro Recall: 0.4925834363411619\n",
      "Macro F1-score: 0.48971375635027575\n",
      "\n",
      "Classification Report:\n",
      "               precision    recall  f1-score   support\n",
      "\n",
      "           0       0.97      1.00      0.99      8176\n",
      "           1       0.97      0.97      0.97      1618\n",
      "           2       0.00      0.00      0.00       109\n",
      "           3       0.00      0.00      0.00        97\n",
      "\n",
      "    accuracy                           0.97     10000\n",
      "   macro avg       0.49      0.49      0.49     10000\n",
      "weighted avg       0.95      0.97      0.96     10000\n",
      "\n"
     ]
    },
    {
     "name": "stderr",
     "output_type": "stream",
     "text": [
      "C:\\Users\\Sarunraj.S\\AppData\\Roaming\\Python\\Python38\\site-packages\\sklearn\\metrics\\_classification.py:1471: UndefinedMetricWarning: Precision and F-score are ill-defined and being set to 0.0 in labels with no predicted samples. Use `zero_division` parameter to control this behavior.\n",
      "  _warn_prf(average, modifier, msg_start, len(result))\n",
      "C:\\Users\\Sarunraj.S\\AppData\\Roaming\\Python\\Python38\\site-packages\\sklearn\\metrics\\_classification.py:1471: UndefinedMetricWarning: Precision and F-score are ill-defined and being set to 0.0 in labels with no predicted samples. Use `zero_division` parameter to control this behavior.\n",
      "  _warn_prf(average, modifier, msg_start, len(result))\n",
      "C:\\Users\\Sarunraj.S\\AppData\\Roaming\\Python\\Python38\\site-packages\\sklearn\\metrics\\_classification.py:1471: UndefinedMetricWarning: Precision and F-score are ill-defined and being set to 0.0 in labels with no predicted samples. Use `zero_division` parameter to control this behavior.\n",
      "  _warn_prf(average, modifier, msg_start, len(result))\n",
      "C:\\Users\\Sarunraj.S\\AppData\\Roaming\\Python\\Python38\\site-packages\\sklearn\\metrics\\_classification.py:1471: UndefinedMetricWarning: Precision and F-score are ill-defined and being set to 0.0 in labels with no predicted samples. Use `zero_division` parameter to control this behavior.\n",
      "  _warn_prf(average, modifier, msg_start, len(result))\n"
     ]
    },
    {
     "data": {
      "image/png": "[encoded data removed]",
      "text/plain": [
       "<Figure size 640x480 with 2 Axes>"
      ]
     },
     "metadata": {},
     "output_type": "display_data"
    }
   ],
   "source": [
    "evaluate_model(y_test, y_pred, \"Logistic Regression\")"
   ]
  },
  {
   "cell_type": "code",
   "execution_count": 61,
   "metadata": {},
   "outputs": [
    {
     "name": "stdout",
     "output_type": "stream",
     "text": [
      "\n",
      "=== Random Forest Evaluation ===\n",
      "Accuracy: 0.9794\n",
      "Macro Precision: 0.488524188187467\n",
      "Macro Recall: 0.5\n",
      "Macro F1-score: 0.49419387688790295\n",
      "\n",
      "Classification Report:\n",
      "               precision    recall  f1-score   support\n",
      "\n",
      "           0       0.98      1.00      0.99      8176\n",
      "           1       0.97      1.00      0.99      1618\n",
      "           2       0.00      0.00      0.00       109\n",
      "           3       0.00      0.00      0.00        97\n",
      "\n",
      "    accuracy                           0.98     10000\n",
      "   macro avg       0.49      0.50      0.49     10000\n",
      "weighted avg       0.96      0.98      0.97     10000\n",
      "\n"
     ]
    },
    {
     "name": "stderr",
     "output_type": "stream",
     "text": [
      "C:\\Users\\Sarunraj.S\\AppData\\Roaming\\Python\\Python38\\site-packages\\sklearn\\metrics\\_classification.py:1471: UndefinedMetricWarning: Precision and F-score are ill-defined and being set to 0.0 in labels with no predicted samples. Use `zero_division` parameter to control this behavior.\n",
      "  _warn_prf(average, modifier, msg_start, len(result))\n",
      "C:\\Users\\Sarunraj.S\\AppData\\Roaming\\Python\\Python38\\site-packages\\sklearn\\metrics\\_classification.py:1471: UndefinedMetricWarning: Precision and F-score are ill-defined and being set to 0.0 in labels with no predicted samples. Use `zero_division` parameter to control this behavior.\n",
      "  _warn_prf(average, modifier, msg_start, len(result))\n",
      "C:\\Users\\Sarunraj.S\\AppData\\Roaming\\Python\\Python38\\site-packages\\sklearn\\metrics\\_classification.py:1471: UndefinedMetricWarning: Precision and F-score are ill-defined and being set to 0.0 in labels with no predicted samples. Use `zero_division` parameter to control this behavior.\n",
      "  _warn_prf(average, modifier, msg_start, len(result))\n",
      "C:\\Users\\Sarunraj.S\\AppData\\Roaming\\Python\\Python38\\site-packages\\sklearn\\metrics\\_classification.py:1471: UndefinedMetricWarning: Precision and F-score are ill-defined and being set to 0.0 in labels with no predicted samples. Use `zero_division` parameter to control this behavior.\n",
      "  _warn_prf(average, modifier, msg_start, len(result))\n"
     ]
    },
    {
     "data": {
      "image/png": "[encoded data removed]",
      "text/plain": [
       "<Figure size 640x480 with 2 Axes>"
      ]
     },
     "metadata": {},
     "output_type": "display_data"
    }
   ],
   "source": [
    "rf = RandomForestClassifier(n_estimators=100, random_state=42)\n",
    "rf.fit(x_train, y_train)\n",
    "y_pred_rf = rf.predict(x_test)\n",
    "evaluate_model(y_test, y_pred_rf, \"Random Forest\")"
   ]
  },
  {
   "cell_type": "code",
   "execution_count": 63,
   "metadata": {},
   "outputs": [],
   "source": [
    "y_pred_train = model1.predict(x_train)"
   ]
  },
  {
   "cell_type": "code",
   "execution_count": 70,
   "metadata": {},
   "outputs": [
    {
     "name": "stdout",
     "output_type": "stream",
     "text": [
      "\n",
      "=== Overfitting Check ===\n",
      "Train Accuracy: 0.9746\n",
      "Test Accuracy:  0.9746\n",
      "Train Log Loss: 0.1614\n",
      "Test Log Loss:  0.1748\n",
      "\n",
      "✅ No significant overfitting detected.\n"
     ]
    }
   ],
   "source": [
    "from sklearn.metrics import accuracy_score, log_loss\n",
    "if hasattr(model1, \"predict_proba\"):\n",
    "    loss_train = log_loss(y_train, model1.predict_proba(x_train))\n",
    "    loss_test = log_loss(y_test, model1.predict_proba(x_test))\n",
    "else:\n",
    "    loss_train = None\n",
    "    loss_test = None\n",
    "acc_train = accuracy_score(y_train, y_pred_train)\n",
    "acc_test = accuracy_score(y_test, y_pred)\n",
    "\n",
    "print(\"\\n=== Overfitting Check ===\")\n",
    "print(f\"Train Accuracy: {acc_train:.4f}\")\n",
    "print(f\"Test Accuracy:  {acc_test:.4f}\")\n",
    "if loss_train is not None:\n",
    "    print(f\"Train Log Loss: {loss_train:.4f}\")\n",
    "    print(f\"Test Log Loss:  {loss_test:.4f}\")\n",
    "\n",
    "# Decision\n",
    "if acc_train - acc_test > 0.10:\n",
    "    print(\"\\n🚨 Warning: Possible overfitting (Accuracy gap > 10%)\")\n",
    "else:\n",
    "    print(\"\\n✅ No significant overfitting detected.\")"
   ]
  },
  {
   "cell_type": "code",
   "execution_count": 71,
   "metadata": {},
   "outputs": [
    {
     "name": "stdout",
     "output_type": "stream",
     "text": [
      "\n",
      "=== Overfitting Check ===\n",
      "Train Accuracy: 0.9746\n",
      "Test Accuracy:  0.9746\n",
      "Train Log Loss: 0.0196\n",
      "Test Log Loss:  0.2778\n",
      "\n",
      "✅ No significant overfitting detected.\n"
     ]
    }
   ],
   "source": [
    "from sklearn.metrics import accuracy_score, log_loss\n",
    "if hasattr(rf, \"predict_proba\"):\n",
    "    loss_train = log_loss(y_train, rf.predict_proba(x_train))\n",
    "    loss_test = log_loss(y_test, rf.predict_proba(x_test))\n",
    "else:\n",
    "    loss_train = None\n",
    "    loss_test = None\n",
    "acc_train = accuracy_score(y_train, y_pred_train)\n",
    "acc_test = accuracy_score(y_test, y_pred)\n",
    "\n",
    "print(\"\\n=== Overfitting Check ===\")\n",
    "print(f\"Train Accuracy: {acc_train:.4f}\")\n",
    "print(f\"Test Accuracy:  {acc_test:.4f}\")\n",
    "if loss_train is not None:\n",
    "    print(f\"Train Log Loss: {loss_train:.4f}\")\n",
    "    print(f\"Test Log Loss:  {loss_test:.4f}\")\n",
    "\n",
    "# Decision\n",
    "if acc_train - acc_test > 0.10:\n",
    "    print(\"\\n🚨 Warning: Possible overfitting (Accuracy gap > 10%)\")\n",
    "else:\n",
    "    print(\"\\n✅ No significant overfitting detected.\")"
   ]
  },
  {
   "cell_type": "code",
   "execution_count": null,
   "metadata": {},
   "outputs": [],
   "source": []
  },
  {
   "attachments": {},
   "cell_type": "markdown",
   "metadata": {},
   "source": [
    "data ingestion\n"
   ]
  },
  {
   "cell_type": "code",
   "execution_count": null,
   "metadata": {},
   "outputs": [],
   "source": [
    "import pandas as pd\n",
    "\n",
    "def data_ingestion(data_path):\n",
    "    return df=pd.read_csv(data_path)"
   ]
  },
  {
   "attachments": {},
   "cell_type": "markdown",
   "metadata": {},
   "source": [
    "data preprocessing\n"
   ]
  },
  {
   "cell_type": "code",
   "execution_count": null,
   "metadata": {},
   "outputs": [],
   "source": [
    "import pandas as pd \n",
    "import numpy as np\n",
    "from sklearn.preprocessing import StandardScaler\n",
    "from src.data_ingestion import data_ingestion\n",
    "\n",
    "def preprocessing(data_path):\n",
    "    df=data_ingestion(data_path)\n",
    "    x = df.drop(['application_id', 'application_date', 'interest_rate_offered','residential_address','gender','fraud_flag','loan_status'], axis=1)\n",
    "    encoders = {}\n",
    "    for i in col:\n",
    "        le = LabelEncoder()\n",
    "        x_encoded = le.fit_transform(x[i])  # Use 'x' if that's your dataframe name\n",
    "        encoders[i] = le\n",
    "        x[i] = x_encoded \n",
    "    scaler=StandardScaler()\n",
    "    x_scaled=scaler.fit_transform(x)   \n",
    "    x_scaled=pd.DataFrame(x_scaled,columns=x.columns)\n",
    "    y_encoded = le.fit_transform(y)\n",
    "    y_encode=pd.Series(y_encoded)\n",
    "    return x_scaled,y_encode"
   ]
  },
  {
   "attachments": {},
   "cell_type": "markdown",
   "metadata": {},
   "source": [
    "data training\n"
   ]
  },
  {
   "cell_type": "code",
   "execution_count": null,
   "metadata": {},
   "outputs": [],
   "source": [
    "from sklearn.model_selection import train_test_split\n",
    "from sklearn.ensemble import RandomForestClassifier\n",
    "\n",
    "from src.data_preprocessing import preprocessing\n",
    "\n",
    "from joblib import dump, load\n",
    "\n",
    "def model_training(data_path):\n",
    "    x_scaled,y_encode=preprocessing(data_path)\n",
    "    x_train,x_test,y_train,y_test=train_test_split(x_scaled,y_encode,test_size=0.2,random_state=42,stratify=y_encode)\n",
    "    rf = RandomForestClassifier(n_estimators=100, random_state=42)\n",
    "    rf.fit(x_train, y_train)\n",
    "    return dump(model, 'random_forest_model.joblib')\n",
    "   \n",
    "    \n",
    "\n",
    "\n",
    "    \n"
   ]
  },
  {
   "attachments": {},
   "cell_type": "markdown",
   "metadata": {},
   "source": [
    "evaluation"
   ]
  },
  {
   "cell_type": "code",
   "execution_count": null,
   "metadata": {},
   "outputs": [],
   "source": [
    "from sklearn.metrics import (accuracy_score, precision_recall_fscore_support,\n",
    "                             confusion_matrix, classification_report, roc_auc_score)\n",
    "\n",
    "def evaluate_model(y_true, y_pred, model_name=\"Model\"):\n",
    "    print(f\"\\n=== {model_name} Evaluation ===\")\n",
    "    acc = accuracy_score(y_true, y_pred)\n",
    "    return precision, recall, f1, _ = precision_recall_fscore_support(y_true, y_pred, average='macro')"
   ]
  },
  {
   "attachments": {},
   "cell_type": "markdown",
   "metadata": {},
   "source": [
    "model prediction\n"
   ]
  },
  {
   "cell_type": "code",
   "execution_count": null,
   "metadata": {},
   "outputs": [],
   "source": [
    "from joblib import dump, load\n",
    "from src.model_evaluation import evaluation_model\n",
    "\n",
    "def prediction(data_path):\n",
    "    loaded_model = load('random_forest_model.joblib')\n",
    "    y_pred_rf = loaded_model.predict(x_test)\n",
    "    evaluate_model(y_test, y_pred_rf, \"Random Forest\")"
   ]
  }
 ],
 "metadata": {
  "kernelspec": {
   "display_name": "Python 3",
   "language": "python",
   "name": "python3"
  },
  "language_info": {
   "codemirror_mode": {
    "name": "ipython",
    "version": 3
   },
   "file_extension": ".py",
   "mimetype": "text/x-python",
   "name": "python",
   "nbconvert_exporter": "python",
   "pygments_lexer": "ipython3",
   "version": "3.8.10"
  },
  "orig_nbformat": 4
 },
 "nbformat": 4,
 "nbformat_minor": 2
}
